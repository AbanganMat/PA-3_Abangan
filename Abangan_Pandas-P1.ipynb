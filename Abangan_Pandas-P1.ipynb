{
 "cells": [
  {
   "cell_type": "markdown",
   "id": "a7006e33-0ec0-4904-9382-72f909477b62",
   "metadata": {},
   "source": [
    "#### PA # 3"
   ]
  },
  {
   "cell_type": "markdown",
   "id": "5d347b19-e399-49d1-ae87-90f44e8d2085",
   "metadata": {},
   "source": [
    "Using knowledge obtained from the experiment and demonstrations:\n",
    "a. Load the corresponding .csv file into a data frame named cars using pandas\n",
    "b. Display the first five and last five rows of the resulting cars."
   ]
  },
  {
   "cell_type": "code",
   "execution_count": 8,
   "id": "1d49cdea-3332-48a6-bdfe-e03736e9283a",
   "metadata": {},
   "outputs": [
    {
     "name": "stdout",
     "output_type": "stream",
     "text": [
      "First 5 rows:\n",
      "               Model   mpg  cyl   disp   hp  drat     wt   qsec  vs  am  gear  \\\n",
      "0          Mazda RX4  21.0    6  160.0  110  3.90  2.620  16.46   0   1     4   \n",
      "1      Mazda RX4 Wag  21.0    6  160.0  110  3.90  2.875  17.02   0   1     4   \n",
      "2         Datsun 710  22.8    4  108.0   93  3.85  2.320  18.61   1   1     4   \n",
      "3     Hornet 4 Drive  21.4    6  258.0  110  3.08  3.215  19.44   1   0     3   \n",
      "4  Hornet Sportabout  18.7    8  360.0  175  3.15  3.440  17.02   0   0     3   \n",
      "\n",
      "   carb  \n",
      "0     4  \n",
      "1     4  \n",
      "2     1  \n",
      "3     1  \n",
      "4     2  \n",
      "\n",
      "Last 6 rows:\n",
      "             Model   mpg  cyl   disp   hp  drat     wt  qsec  vs  am  gear  \\\n",
      "26   Porsche 914-2  26.0    4  120.3   91  4.43  2.140  16.7   0   1     5   \n",
      "27    Lotus Europa  30.4    4   95.1  113  3.77  1.513  16.9   1   1     5   \n",
      "28  Ford Pantera L  15.8    8  351.0  264  4.22  3.170  14.5   0   1     5   \n",
      "29    Ferrari Dino  19.7    6  145.0  175  3.62  2.770  15.5   0   1     5   \n",
      "30   Maserati Bora  15.0    8  301.0  335  3.54  3.570  14.6   0   1     5   \n",
      "31      Volvo 142E  21.4    4  121.0  109  4.11  2.780  18.6   1   1     4   \n",
      "\n",
      "    carb  \n",
      "26     2  \n",
      "27     2  \n",
      "28     4  \n",
      "29     6  \n",
      "30     8  \n",
      "31     2  \n"
     ]
    }
   ],
   "source": [
    "import pandas as pd\n",
    "\n",
    "# Load the CSV file from the URL into a dataframe named cars\n",
    "url = \"http://bit.ly/Cars_file\"\n",
    "cars = pd.read_csv(url)\n",
    "\n",
    "# Display the first five and last six rows of the dataframe\n",
    "print(\"First 5 rows:\")\n",
    "print(cars.head())\n",
    "\n",
    "print(\"\\nLast 6 rows:\")\n",
    "print(cars.tail(6))\n"
   ]
  }
 ],
 "metadata": {
  "kernelspec": {
   "display_name": "Python [conda env:base] *",
   "language": "python",
   "name": "conda-base-py"
  },
  "language_info": {
   "codemirror_mode": {
    "name": "ipython",
    "version": 3
   },
   "file_extension": ".py",
   "mimetype": "text/x-python",
   "name": "python",
   "nbconvert_exporter": "python",
   "pygments_lexer": "ipython3",
   "version": "3.13.5"
  }
 },
 "nbformat": 4,
 "nbformat_minor": 5
}
